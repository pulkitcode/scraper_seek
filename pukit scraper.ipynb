{
 "metadata": {
  "language_info": {
   "codemirror_mode": {
    "name": "ipython",
    "version": 3
   },
   "file_extension": ".py",
   "mimetype": "text/x-python",
   "name": "python",
   "nbconvert_exporter": "python",
   "pygments_lexer": "ipython3",
   "version": "3.7.3-final"
  },
  "orig_nbformat": 2,
  "kernelspec": {
   "name": "Python 3.7.3 64-bit ('base': conda)",
   "display_name": "Python 3.7.3 64-bit ('base': conda)",
   "metadata": {
    "interpreter": {
     "hash": "968d0bf7263fd3aeacf1fc2f7905479d462addf3c8c3df0f6c753b6189c14747"
    }
   }
  }
 },
 "nbformat": 4,
 "nbformat_minor": 2,
 "cells": [
  {
   "cell_type": "code",
   "execution_count": 1,
   "metadata": {},
   "outputs": [],
   "source": [
    "import requests \n",
    "from bs4 import BeautifulSoup \n",
    "import csv \n",
    "   \n",
    "URL = \"https://www.seek.com.au/jobs-in-information-communication-technology/engineering-software\"\n",
    "r = requests.get(URL) \n",
    "   \n",
    "soup = BeautifulSoup(r.content, 'html.parser') \n",
    "   \n",
    "quotes=[]  # a list to store quotes \n",
    "   \n",
    "table = soup.find('section', attrs = {'aria-label':'Search Results'})\n",
    "\n",
    "#print(table)\n",
    "   \n",
    "for row in table.findAll('article', attrs = {'data-automation':'normalJob'}): \n",
    "    \n",
    "    #print(row)\n",
    "    quote = {} \n",
    "    quote['job_names'] = row.h1.text\n",
    "    quotes.append(quote) \n",
    "   \n",
    "#print(quotes)\n",
    "filename = 'inspirational_quotes.csv'\n",
    "with open(filename, 'w', newline='\\n') as f: \n",
    "    w = csv.DictWriter(f,['job_names']) \n",
    "    w.writeheader() \n",
    "    for quote in quotes: \n",
    "        w.writerow(quote)"
   ]
  },
  {
   "cell_type": "code",
   "execution_count": null,
   "metadata": {},
   "outputs": [],
   "source": []
  }
 ]
}