{
 "metadata": {
  "language_info": {
   "codemirror_mode": {
    "name": "ipython",
    "version": 3
   },
   "file_extension": ".py",
   "mimetype": "text/x-python",
   "name": "python",
   "nbconvert_exporter": "python",
   "pygments_lexer": "ipython3",
   "version": "3.7.3-final"
  },
  "orig_nbformat": 2,
  "kernelspec": {
   "name": "Python 3.7.3 64-bit ('base': conda)",
   "display_name": "Python 3.7.3 64-bit ('base': conda)",
   "metadata": {
    "interpreter": {
     "hash": "968d0bf7263fd3aeacf1fc2f7905479d462addf3c8c3df0f6c753b6189c14747"
    }
   }
  }
 },
 "nbformat": 4,
 "nbformat_minor": 2,
 "cells": [
  {
   "cell_type": "code",
   "execution_count": 9,
   "metadata": {
    "tags": []
   },
   "outputs": [
    {
     "output_type": "stream",
     "name": "stdout",
     "text": "                                            Job Title\n0                                   Software Engineer\n1                                   Software Engineer\n2                                   Software Engineer\n3      Software Engineer, C++ application development\n4                                Junior Data Engineer\n5                                   Software Engineer\n6                                   Software Engineer\n7                                   Software Engineer\n8                            Junior Firmware Engineer\n9                           Junior Software Developer\n10                                  Software Engineer\n11                               Full Stack Developer\n12  3x Mid Level Software Engineers - .Net / C# (....\n13                                  Software Engineer\n14                                  Software Engineer\n15                Graduate Embedded Software Engineer\n16                       Software Developer (Backend)\n17                                  Software Engineer\n18                             C++ Software Engineers\n19                                  Software Engineer\n"
    }
   ],
   "source": [
    "import requests \n",
    "from bs4 import BeautifulSoup \n",
    "import csv \n",
    "import pandas as pd\n",
    "   \n",
    "URL = \"https://www.seek.com.au/jobs-in-information-communication-technology/engineering-software\"\n",
    "r = requests.get(URL) \n",
    "soup = BeautifulSoup(r.content, 'html.parser') \n",
    "   \n",
    "job_titles = {} # Dict to be converted to df\n",
    "job_name = []\n",
    "   \n",
    "table = soup.find('section', attrs = {'aria-label':'Search Results'})\n",
    "\n",
    "#print(table)\n",
    "\n",
    "# Finds all aria rows\n",
    "for row in table.findAll('article', attrs = {'data-automation':'normalJob'}): \n",
    "    \n",
    "    #print(row)\n",
    "    #print(\"\\n\\n\")\n",
    "    job_name.append(row.h1.text)\n",
    "    \n",
    "# ------ Convert to pandas dataframe\n",
    "job_titles['Job Title'] = job_name\n",
    "\n",
    "# Pd final\n",
    "jobs = pd.DataFrame(job_titles)\n",
    "print(jobs)\n",
    "jobs.to_csv(\"jobs.csv\", index = False)\n"
   ]
  },
  {
   "cell_type": "code",
   "execution_count": null,
   "metadata": {},
   "outputs": [],
   "source": []
  }
 ]
}