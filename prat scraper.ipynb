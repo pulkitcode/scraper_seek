{
 "metadata": {
  "language_info": {
   "codemirror_mode": {
    "name": "ipython",
    "version": 3
   },
   "file_extension": ".py",
   "mimetype": "text/x-python",
   "name": "python",
   "nbconvert_exporter": "python",
   "pygments_lexer": "ipython3",
   "version": "3.7.3-final"
  },
  "orig_nbformat": 2,
  "kernelspec": {
   "name": "Python 3.7.3 64-bit ('base': conda)",
   "display_name": "Python 3.7.3 64-bit ('base': conda)",
   "metadata": {
    "interpreter": {
     "hash": "968d0bf7263fd3aeacf1fc2f7905479d462addf3c8c3df0f6c753b6189c14747"
    }
   }
  }
 },
 "nbformat": 4,
 "nbformat_minor": 2,
 "cells": [
  {
   "cell_type": "code",
   "execution_count": 5,
   "metadata": {},
   "outputs": [],
   "source": [
    "import requests\n",
    "from bs4 import BeautifulSoup\n",
    "from urllib.parse import urljoin\n",
    "import pandas as pd\n",
    "import unicodedata\n",
    "import re\n",
    "import matplotlib.pyplot as plt\n",
    "import numpy as np\n",
    "import json\n",
    "import seaborn as sns"
   ]
  },
  {
   "cell_type": "code",
   "execution_count": 17,
   "metadata": {
    "tags": []
   },
   "outputs": [
    {
     "output_type": "stream",
     "name": "stdout",
     "text": "Job title: 20\n['Software Engineer', 'Software Engineer', 'Software Engineer', 'Software Engineer, C++ application development', 'Junior Data Engineer', 'Software Engineer', 'Software Engineer', 'Software Engineer', 'Junior Firmware Engineer', 'Junior Software Developer', 'Software Engineer', 'Full Stack Developer', '3x Mid Level Software Engineers - .Net / C# (.Net core)', 'Software Engineer', 'Software Engineer', 'Graduate Embedded Software Engineer', 'Software Developer (Backend)', 'Software Engineer', 'C++ Software Engineers', 'Software Engineer']\nJob Listing Date: 20\n['8h ago', '10h ago', '14h ago', '6d ago', '4d ago', '5d ago', '8d ago', '6d ago', '9d ago', '9d ago', '4d ago', '4d ago', '2d ago', '8d ago', '7d ago', '5d ago', '4d ago', '20d ago', '4d ago', '5d ago']\nJob Company: 20\n['Harrison McMillan', 'Just Digital People', 'Plenti', 'CSIRO', 'Capgemini Australia Pty Ltd', 'Rubix Solutions Pty Ltd', 'Coviu', 'Ambition', 'The Onset', 'Department of Justice and Community Safety', 'Boeing Defence Australia', 'Hydrogen Group Pty Ltd', 'Naviro', 'Fireball.International', 'Fleet Space Technologies', 'Inovor Technologies Pty Ltd', 'Butterfly Systems', 'Sirius Technology Sydney part of Sirius People Pty Ltd', 'Sideshow Consulting', 'Elbit Systems of Australia']\n                                            Job Title  \\\n0                                   Software Engineer   \n1                                   Software Engineer   \n2                                   Software Engineer   \n3      Software Engineer, C++ application development   \n4                                Junior Data Engineer   \n5                                   Software Engineer   \n6                                   Software Engineer   \n7                                   Software Engineer   \n8                            Junior Firmware Engineer   \n9                           Junior Software Developer   \n10                                  Software Engineer   \n11                               Full Stack Developer   \n12  3x Mid Level Software Engineers - .Net / C# (....   \n13                                  Software Engineer   \n14                                  Software Engineer   \n15                Graduate Embedded Software Engineer   \n16                       Software Developer (Backend)   \n17                                  Software Engineer   \n18                             C++ Software Engineers   \n19                                  Software Engineer   \n\n                                          Job Company Job Listing Date  \n0                                   Harrison McMillan           8h ago  \n1                                 Just Digital People          10h ago  \n2                                              Plenti          14h ago  \n3                                               CSIRO           6d ago  \n4                         Capgemini Australia Pty Ltd           4d ago  \n5                             Rubix Solutions Pty Ltd           5d ago  \n6                                               Coviu           8d ago  \n7                                            Ambition           6d ago  \n8                                           The Onset           9d ago  \n9          Department of Justice and Community Safety           9d ago  \n10                           Boeing Defence Australia           4d ago  \n11                             Hydrogen Group Pty Ltd           4d ago  \n12                                             Naviro           2d ago  \n13                             Fireball.International           8d ago  \n14                           Fleet Space Technologies           7d ago  \n15                        Inovor Technologies Pty Ltd           5d ago  \n16                                  Butterfly Systems           4d ago  \n17  Sirius Technology Sydney part of Sirius People...          20d ago  \n18                                Sideshow Consulting           4d ago  \n19                         Elbit Systems of Australia           5d ago  \n"
    }
   ],
   "source": [
    "URL = \"https://www.seek.com.au/jobs-in-information-communication-technology/engineering-software\"\n",
    "r = requests.get(URL) \n",
    "soup = BeautifulSoup(r.content, 'html.parser') \n",
    "   \n",
    "# Dict to be converted to df\n",
    "job = {}\n",
    "   \n",
    "table = soup.find('section', attrs = {'aria-label':'Search Results'})\n",
    "#print(table)\n",
    "\n",
    "# Finds all job names\n",
    "job_name = []\n",
    "# Find all job companies\n",
    "job_company = []\n",
    "# Find all listing dates\n",
    "job_listing_date = []\n",
    "\n",
    "for row in table.findAll('article', attrs = {'data-automation':'normalJob'}):\n",
    "    # print(row)\n",
    "    job_name.append(row.h1.text)\n",
    "\n",
    "    job_company.append(row.find('a', attrs = {'data-automation':'jobCompany'}).text)\n",
    "    job_listing_date.append(row.find('span', attrs = {'data-automation':'jobListingDate'}).text)\n",
    "\n",
    "# Add to dict\n",
    "job['Job Title'] = job_name\n",
    "job['Job Company'] = job_company\n",
    "job['Job Listing Date'] = job_listing_date\n",
    "\n",
    "# Lens\n",
    "#print(\"Job title: \" + str(len(job_name)))\n",
    "#print(job_name)\n",
    "\n",
    "# Pd final\n",
    "jobs = pd.DataFrame(job)\n",
    "print(jobs)\n",
    "jobs.to_csv(\"jobs.csv\", index = False)\n"
   ]
  },
  {
   "cell_type": "code",
   "execution_count": null,
   "metadata": {},
   "outputs": [],
   "source": []
  }
 ]
}