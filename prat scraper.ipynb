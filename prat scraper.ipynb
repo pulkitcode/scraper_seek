{
 "metadata": {
  "language_info": {
   "codemirror_mode": {
    "name": "ipython",
    "version": 3
   },
   "file_extension": ".py",
   "mimetype": "text/x-python",
   "name": "python",
   "nbconvert_exporter": "python",
   "pygments_lexer": "ipython3",
   "version": "3.7.3-final"
  },
  "orig_nbformat": 2,
  "kernelspec": {
   "name": "Python 3.7.3 64-bit ('base': conda)",
   "display_name": "Python 3.7.3 64-bit ('base': conda)",
   "metadata": {
    "interpreter": {
     "hash": "968d0bf7263fd3aeacf1fc2f7905479d462addf3c8c3df0f6c753b6189c14747"
    }
   }
  }
 },
 "nbformat": 4,
 "nbformat_minor": 2,
 "cells": [
  {
   "cell_type": "code",
   "execution_count": 5,
   "metadata": {},
   "outputs": [],
   "source": [
    "import requests\n",
    "from bs4 import BeautifulSoup\n",
    "from urllib.parse import urljoin\n",
    "import pandas as pd\n",
    "import unicodedata\n",
    "import re\n",
    "import matplotlib.pyplot as plt\n",
    "import numpy as np\n",
    "import json\n",
    "import seaborn as sns"
   ]
  },
  {
   "cell_type": "code",
   "execution_count": 28,
   "metadata": {
    "tags": []
   },
   "outputs": [
    {
     "output_type": "stream",
     "name": "stdout",
     "text": "                                                Title  \\\n0                                   Software Engineer   \n1                                   Software Engineer   \n2                                   Software Engineer   \n3      Software Engineer, C++ application development   \n4                                Junior Data Engineer   \n5                                   Software Engineer   \n6                                   Software Engineer   \n7                                   Software Engineer   \n8                            Junior Firmware Engineer   \n9                           Junior Software Developer   \n10                                  Software Engineer   \n11                               Full Stack Developer   \n12  3x Mid Level Software Engineers - .Net / C# (....   \n13                                  Software Engineer   \n14                                  Software Engineer   \n15                Graduate Embedded Software Engineer   \n16                       Software Developer (Backend)   \n17                                  Software Engineer   \n18                             C++ Software Engineers   \n19                                  Software Engineer   \n\n                                              Company Listing Date  \\\n0                                   Harrison McMillan       9h ago   \n1                                 Just Digital People      11h ago   \n2                                              Plenti      15h ago   \n3                                               CSIRO       6d ago   \n4                         Capgemini Australia Pty Ltd       4d ago   \n5                             Rubix Solutions Pty Ltd       5d ago   \n6                                               Coviu       8d ago   \n7                                            Ambition       6d ago   \n8                                           The Onset       9d ago   \n9          Department of Justice and Community Safety       9d ago   \n10                           Boeing Defence Australia       4d ago   \n11                             Hydrogen Group Pty Ltd       4d ago   \n12                                             Naviro       2d ago   \n13                             Fireball.International       8d ago   \n14                           Fleet Space Technologies       7d ago   \n15                        Inovor Technologies Pty Ltd       5d ago   \n16                                  Butterfly Systems       4d ago   \n17  Sirius Technology Sydney part of Sirius People...      20d ago   \n18                                Sideshow Consulting       4d ago   \n19                         Elbit Systems of Australia       5d ago   \n\n          Location                                         Key Points  \\\n0         Adelaide  [Graduate, mid-level and team leadership roles...   \n1         Brisbane                                                 []   \n2           Sydney  [Extremely quickly growing Fintech, Unparallel...   \n3        Melbourne  [Develop commercial-quality software using mod...   \n4        Melbourne  [Immediate start for the right candidate, Big ...   \n5              ACT  [Software Engineer/Developer, Canberra, NV1/NV...   \n6           Sydney                                                 []   \n7           Sydney  [Permanent full time opportunity for recent gr...   \n8           Sydney  [A personal training plan, budget for further ...   \n9        Melbourne                                                 []   \n10        Brisbane  [Study assistance, Employee Incentive Program,...   \n11       Melbourne                                                 []   \n12          Sydney                                                 []   \n13  Sunshine Coast  [Dynamic, flexible and semi-remote team., Agil...   \n14        Adelaide   [Space industry, Collaborative team environment]   \n15        Adelaide  [Work in the Space Industry with Australia's l...   \n16          Sydney  [Healthcare technology, Nice and quiet work en...   \n17          Sydney                                                 []   \n18          Sydney  [Sophisticated technology, Excellent job secur...   \n19       Melbourne  [Dynamic and innovative team environment., Con...   \n\n                                    Short Description  \\\n0   help our clients build cutting edge systems us...   \n1   An exciting opportunity with a large and growi...   \n2   Be a part of the Peer2Peer finance revolution ...   \n3   Be part of a multi-disciplinary team of softwa...   \n4   Set your career in joining a global technology...   \n5   Rubix are currently seeking security cleared S...   \n6   Come and build the app store for digital healt...   \n7   A great opportunity for a recent graduate to j...   \n8   You're a Jnr or graduate Firmware Engineer tha...   \n9   An exciting full time, ongoing opportunity is ...   \n10  Work for a company that employs the best talen...   \n11                               Full Stack Developer   \n12  We are going through a period of rapid scaling...   \n13  Join the software team at Fireball. Building a...   \n14  A great opportunity to join our product develo...   \n15  Are you ready to begin your career as a Gradua...   \n16  Butterfly Systems is a Chatswood based innovat...   \n17  Global solution provide has a permanent opport...   \n18  Two new roles with a fast growing software eng...   \n19  As our Software Engineer, you will be will be ...   \n\n                                                 Link  \n0   seek.com.au/job/50651900?type=standout#searchR...  \n1   seek.com.au/job/50650269?type=standard#searchR...  \n2   seek.com.au/job/50194207?type=standout#searchR...  \n3   seek.com.au/job/50618334?type=standout#searchR...  \n4   seek.com.au/job/50633582?type=standout#searchR...  \n5   seek.com.au/job/50630747?type=standout#searchR...  \n6   seek.com.au/job/50605541?type=standard#searchR...  \n7   seek.com.au/job/50622452?type=standout#searchR...  \n8   seek.com.au/job/50600093?type=standout#searchR...  \n9   seek.com.au/job/50599156?type=standard#searchR...  \n10  seek.com.au/job/50635041?type=standout#searchR...  \n11  seek.com.au/job/50636828?type=standard#searchR...  \n12  seek.com.au/job/50641282?type=standard#searchR...  \n13  seek.com.au/job/50607646?type=standout#searchR...  \n14  seek.com.au/job/50616334?type=standout#searchR...  \n15  seek.com.au/job/50627779?type=standout#searchR...  \n16  seek.com.au/job/50473250?type=standout#searchR...  \n17  seek.com.au/job/50538451?type=standard#searchR...  \n18  seek.com.au/job/50632450?type=standout#searchR...  \n19  seek.com.au/job/50625129?type=standout#searchR...  \n"
    }
   ],
   "source": [
    "URL = \"https://www.seek.com.au/jobs-in-information-communication-technology/engineering-software\"\n",
    "r = requests.get(URL) \n",
    "soup = BeautifulSoup(r.content, 'html.parser') \n",
    "   \n",
    "# Dict to be converted to df\n",
    "job = {}\n",
    "   \n",
    "table = soup.find('section', attrs = {'aria-label':'Search Results'})\n",
    "#print(table)\n",
    "\n",
    "# Find job name\n",
    "title = []\n",
    "# Find job company\n",
    "company = []\n",
    "# Find listing date\n",
    "listing_date = []\n",
    "# Find job location\n",
    "location = []\n",
    "# Find job's key points\n",
    "points = []\n",
    "# Find Job short desc\n",
    "short_desc = []\n",
    "# Job link\n",
    "link = []\n",
    "\n",
    "for row in table.findAll('article', attrs = {'data-automation':'normalJob'}):\n",
    "    key_points = []\n",
    "    # print(row)\n",
    "    title.append(row.h1.text)\n",
    "\n",
    "    company.append(row.find('a', attrs = {'data-automation':'jobCompany'}).text)\n",
    "    listing_date.append(row.find('span', attrs = {'data-automation':'jobListingDate'}).text)\n",
    "    location.append(row.find('a', attrs = {'data-automation':'jobLocation'}).text)\n",
    "    short_desc.append(row.find('span', attrs = {'data-automation':'jobShortDescription'}).text)\n",
    "    link.append('seek.com.au' + row.find('a', attrs = {'data-automation':'jobTitle'}).get('href'))\n",
    "\n",
    "    for li in row.findAll('li'):\n",
    "        key_points.append(li.text)\n",
    "    points.append(key_points)\n",
    "\n",
    "# Add to dict\n",
    "job['Title'] = title\n",
    "job['Company'] = company\n",
    "job['Listing Date'] = listing_date\n",
    "job['Location'] = location\n",
    "job['Key Points'] = points\n",
    "job['Short Description'] = short_desc\n",
    "job['Link'] = link\n",
    "\n",
    "# Lens\n",
    "#print(\"Job title: \" + str(len(title)))\n",
    "#print(title)\n",
    "\n",
    "# Pd final\n",
    "jobs = pd.DataFrame(job)\n",
    "print(jobs)\n",
    "jobs.to_csv(\"jobs.csv\", index = False)\n"
   ]
  },
  {
   "cell_type": "code",
   "execution_count": null,
   "metadata": {},
   "outputs": [],
   "source": []
  }
 ]
}