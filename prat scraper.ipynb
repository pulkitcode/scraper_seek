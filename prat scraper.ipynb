{
 "metadata": {
  "language_info": {
   "codemirror_mode": {
    "name": "ipython",
    "version": 3
   },
   "file_extension": ".py",
   "mimetype": "text/x-python",
   "name": "python",
   "nbconvert_exporter": "python",
   "pygments_lexer": "ipython3",
   "version": "3.7.3-final"
  },
  "orig_nbformat": 2,
  "kernelspec": {
   "name": "Python 3.7.3 64-bit ('base': conda)",
   "display_name": "Python 3.7.3 64-bit ('base': conda)",
   "metadata": {
    "interpreter": {
     "hash": "968d0bf7263fd3aeacf1fc2f7905479d462addf3c8c3df0f6c753b6189c14747"
    }
   }
  }
 },
 "nbformat": 4,
 "nbformat_minor": 2,
 "cells": [
  {
   "cell_type": "code",
   "execution_count": 5,
   "metadata": {},
   "outputs": [],
   "source": [
    "import requests\n",
    "from bs4 import BeautifulSoup\n",
    "from urllib.parse import urljoin\n",
    "import pandas as pd\n",
    "import unicodedata\n",
    "import re\n",
    "import matplotlib.pyplot as plt\n",
    "import numpy as np\n",
    "import json\n",
    "import seaborn as sns"
   ]
  },
  {
   "cell_type": "code",
   "execution_count": 7,
   "metadata": {
    "tags": []
   },
   "outputs": [
    {
     "output_type": "stream",
     "name": "stdout",
     "text": "                                            Job Title Job Listing Date\n0                                   Software Engineer           8h ago\n1                                   Software Engineer          10h ago\n2                                   Software Engineer          14h ago\n3      Software Engineer, C++ application development           6d ago\n4                                Junior Data Engineer           4d ago\n5                                   Software Engineer           5d ago\n6                                   Software Engineer           8d ago\n7                                   Software Engineer           6d ago\n8                            Junior Firmware Engineer           8d ago\n9                           Junior Software Developer           9d ago\n10                                  Software Engineer           4d ago\n11                               Full Stack Developer           4d ago\n12  3x Mid Level Software Engineers - .Net / C# (....           2d ago\n13                                  Software Engineer           8d ago\n14                                  Software Engineer           6d ago\n15                Graduate Embedded Software Engineer           5d ago\n16                       Software Developer (Backend)           4d ago\n17                                  Software Engineer          20d ago\n18                             C++ Software Engineers           4d ago\n19                                  Software Engineer           5d ago\n"
    }
   ],
   "source": [
    "URL = \"https://www.seek.com.au/jobs-in-information-communication-technology/engineering-software\"\n",
    "r = requests.get(URL) \n",
    "soup = BeautifulSoup(r.content, 'html.parser') \n",
    "   \n",
    "job_titles = {} # Dict to be converted to df\n",
    "   \n",
    "table = soup.find('section', attrs = {'aria-label':'Search Results'})\n",
    "#print(table)\n",
    "\n",
    "job_name = []\n",
    "# Finds all aria rows\n",
    "for row in table.findAll('article', attrs = {'data-automation':'normalJob'}): \n",
    "    \n",
    "    #print(row)\n",
    "    #print(\"\\n\\n\")\n",
    "    job_name.append(row.h1.text)  \n",
    "# ------ Convert to pandas dataframe\n",
    "job_titles['Job Title'] = job_name\n",
    "\n",
    "\n",
    "job_listing_date = []\n",
    "# Find all listing dates\n",
    "for row in table.findAll('span', attrs = {'data-automation':'jobListingDate'}): \n",
    "\n",
    "    job_listing_date.append(row.text)\n",
    "# ------ Convert to pandas dataframe\n",
    "job_titles['Job Listing Date'] = job_listing_date\n",
    "\n",
    "# Pd final\n",
    "jobs = pd.DataFrame(job_titles)\n",
    "print(jobs)\n",
    "jobs.to_csv(\"jobs.csv\", index = False)\n"
   ]
  },
  {
   "cell_type": "code",
   "execution_count": null,
   "metadata": {},
   "outputs": [],
   "source": []
  }
 ]
}